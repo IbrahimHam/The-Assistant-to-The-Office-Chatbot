{
 "cells": [
  {
   "cell_type": "code",
   "execution_count": 71,
   "id": "6228984b",
   "metadata": {},
   "outputs": [],
   "source": [
    "from sentence_transformers import SentenceTransformer\n",
    "import json\n",
    "import numpy as np\n",
    "from langchain_core.documents import Document\n",
    "from langchain_huggingface import HuggingFaceEmbeddings\n",
    "from langchain_community.vectorstores import FAISS\n",
    "import os\n",
    "from langchain.chains.retrieval import create_retrieval_chain\n",
    "from langchain import hub\n",
    "from langchain_groq import ChatGroq\n",
    "from langchain.chains.combine_documents import create_stuff_documents_chain\n"
   ]
  },
  {
   "cell_type": "code",
   "execution_count": 53,
   "id": "05778dd5",
   "metadata": {},
   "outputs": [],
   "source": [
    "# 1. Load the scenes from the JSONL file\n",
    "scene_chunks_path = \"../data/scene_chunks.jsonl\"\n",
    "scene_chunks = []\n",
    "with open(scene_chunks_path, \"r\", encoding=\"utf-8\") as f:\n",
    "    for line in f:\n",
    "        scene_chunks.append(json.loads(line))"
   ]
  },
  {
   "cell_type": "code",
   "execution_count": null,
   "id": "31f068d1",
   "metadata": {},
   "outputs": [],
   "source": [
    "# 2. Create LangChain Documents\n",
    "documents = [\n",
    "    Document(\n",
    "        page_content=scene[\"text\"],\n",
    "        metadata={\n",
    "            \"scene_id\": scene.get(\"scene_id\", idx),\n",
    "            \"speakers\": scene.get(\"speakers\", [])\n",
    "            }\n",
    "    )\n",
    "    for idx, scene in enumerate(scene_chunks)\n",
    "]"
   ]
  },
  {
   "cell_type": "code",
   "execution_count": 59,
   "id": "c5fc1dd7",
   "metadata": {},
   "outputs": [
    {
     "name": "stdout",
     "output_type": "stream",
     "text": [
      "Loaded 8157 documents.\n",
      "Scene Text: Michael: All right Jim. Your quarterlies look very good. How are things at the library?\n",
      "Jim: Oh, I told you. I couldn't close it. So...\n",
      "Michael: So you've come to the master for guidance? Is this what you're saying, grasshopper?\n",
      "Jim: Actually, you called me in here, but yeah.\n",
      "Michael: All right. Well, let me show you how it's done.\n",
      "Metadata: {'scene_id': 'S1E1_Scene1', 'speakers': ['Michael', 'Jim']}\n"
     ]
    }
   ],
   "source": [
    "print(f\"Loaded {len(documents)} documents.\")\n",
    "print(\"Scene Text:\", documents[0].page_content)\n",
    "print(\"Metadata:\", documents[0].metadata)"
   ]
  },
  {
   "cell_type": "code",
   "execution_count": 56,
   "id": "6b994d1a",
   "metadata": {},
   "outputs": [],
   "source": [
    "# 3. Load HuggingFace Embedding Model\n",
    "embedding_model = HuggingFaceEmbeddings(\n",
    "    model_name=\"sentence-transformers/all-MiniLM-L6-v2\"\n",
    ")"
   ]
  },
  {
   "cell_type": "code",
   "execution_count": 57,
   "id": "60ae35ae",
   "metadata": {},
   "outputs": [],
   "source": [
    "# 4. Build FAISS vector database\n",
    "vectorstore = FAISS.from_documents(\n",
    "    documents=documents,\n",
    "    embedding=embedding_model\n",
    ")"
   ]
  },
  {
   "cell_type": "code",
   "execution_count": 58,
   "id": "9cb38b5e",
   "metadata": {},
   "outputs": [],
   "source": [
    "# 5. Save the vector database locally\n",
    "output_folder = \"../data/vector_databases\"\n",
    "vectorstore.save_local(os.path.join(output_folder, \"scene_db\"))"
   ]
  },
  {
   "cell_type": "markdown",
   "id": "3c02df61",
   "metadata": {},
   "source": [
    "Build a Retriever"
   ]
  },
  {
   "cell_type": "code",
   "execution_count": 60,
   "id": "41301d19",
   "metadata": {},
   "outputs": [],
   "source": [
    "# 1. Load your saved vector database\n",
    "retriever = FAISS.load_local(\n",
    "    folder_path=\"../data/vector_databases/scene_db\",\n",
    "    embeddings=embedding_model,\n",
    "    allow_dangerous_deserialization=True\n",
    ").as_retriever()"
   ]
  },
  {
   "cell_type": "code",
   "execution_count": null,
   "id": "9a0a83c7",
   "metadata": {},
   "outputs": [
    {
     "name": "stdout",
     "output_type": "stream",
     "text": [
      "\n",
      "Scene 1:\n",
      "Text: Jim: Dwight has made me his bestisch mensch. Which is Schrute for best man. He's putting himself entirely in my hands tonight. And I know for over 12 years I've done nothing but trick and prank him but tonight...only good surprises. \"Guten Pranken\". \n",
      "Metadata: {'scene_id': 'S9E24_Scene8055', 'speakers': ['Jim']}\n",
      "\n",
      "Scene 2:\n",
      "Text: Jim: You know, when I saw Dwight, I realized how stupid and petty all those pranks I pulled on him were. And then he spoke. I wonder how hard it would be to get a copy of his room key.\n",
      "Metadata: {'scene_id': 'S3E2_Scene1282', 'speakers': ['Jim']}\n",
      "\n",
      "Scene 3:\n",
      "Text: Pam: I feel horrible for blowing Jim's prank. I don't know if you can tell, but he's mildly upset. And Dwight hasn't been messed with in a while, so he's become a monster. I need to make this right.\n",
      "Metadata: {'scene_id': 'S7E1_Scene5137', 'speakers': ['Pam']}\n",
      "\n",
      "Scene 4:\n",
      "Text: Jim: Oh no, this is different. The CIA thing, that was a prank on Dwight. This is more like a umm... OK, it's pretty much the same thing.\n",
      "Metadata: {'scene_id': 'S3E10_Scene1678', 'speakers': ['Jim']}\n",
      "\n",
      "Scene 5:\n",
      "Text: Jim: Oh man, I was supposed to tell Dwight something......C'mon, Jim.  I got nothin'.\n",
      "Metadata: {'scene_id': 'S8E10_Scene6531', 'speakers': ['Jim']}\n"
     ]
    }
   ],
   "source": [
    "# 2. Test a basic retrieval\n",
    "# Search for scenes related to \"Jim's prank\"\n",
    "query = \"Tell me about Jim's pranks on Dwight.\"\n",
    "\n",
    "# Retrieve top k\n",
    "retrieved_docs = retriever.get_relevant_documents(query, k=5)\n",
    "\n",
    "# Show the results\n",
    "for idx, doc in enumerate(retrieved_docs):\n",
    "    print(f\"\\nScene {idx+1}:\")\n",
    "    print(\"Text:\", doc.page_content)\n",
    "    print(\"Metadata:\", doc.metadata)"
   ]
  },
  {
   "cell_type": "code",
   "execution_count": 80,
   "id": "97ca0969",
   "metadata": {},
   "outputs": [
    {
     "name": "stderr",
     "output_type": "stream",
     "text": [
      "c:\\Users\\devib\\OneDrive\\Desktop\\Spiced-Academy\\finalProject\\The-Assistant-to-The-Office-Chatbot\\.venv\\Lib\\site-packages\\langsmith\\client.py:272: LangSmithMissingAPIKeyWarning: API key must be provided when using hosted LangSmith API\n",
      "  for url, api_key in _write_api_urls.items():\n"
     ]
    },
    {
     "name": "stdout",
     "output_type": "stream",
     "text": [
      "You want to know about the good old days, huh? Well, let me tell you, I've spent a small fortune on staplers, and a significant amount of time perfecting the art of desk-jockeying. I mean, who needs actual work when you can spend your days tormenting the Assistant (to the) Regional Manager?\n",
      "\n",
      "But, in all seriousness, I've got to admit, some of those pranks were pretty genius. I mean, who else could make a stapler look like a snake? Or turn Dwight's desk into a giant Jenga game? (Okay, maybe that one was a bit of a stretch, but still.)\n",
      "\n",
      "But, as I was saying, I've come to realize that all those pranks were just a bit...petty. I mean, what's the point of filling Dwight's stapler with Jell-O or putting his chair on wheels? It's not like it's going to change the course of human history or anything. Although, I do have to admit, it's been a pretty good way to pass the time.\n",
      "\n",
      "So, now that I've had a chance to reflect on my prankster days, I've decided to take a more...diplomatic approach. I mean, instead of filling Dwight's stapler with Jell-O, I'll just fill it with...actual staples. Yeah, that's it. Actual staples. (laughs)\n",
      "\n",
      "But, hey, being the bestisch mensch (or best man, as it were) is all about making sacrifices, right? So, I'll just have to put my prankster days behind me and focus on being a good friend. (Or, at the very least, not filling Dwight's stapler with Jell-O.)\n"
     ]
    }
   ],
   "source": [
    "# 3. Chain the Retriever to LLM for a nice answer\n",
    "llm = ChatGroq(\n",
    "    model=\"llama3-8b-8192\",\n",
    "    temperature=0.5,\n",
    "    max_tokens=None,\n",
    "    timeout=None,\n",
    "    max_retries=2\n",
    ")\n",
    "\n",
    "# Stuff documents chain (for combining retrieved docs)\n",
    "stuff_documents_chain = create_stuff_documents_chain(\n",
    "    llm=llm,\n",
    "    prompt=hub.pull(\"langchain-ai/retrieval-qa-chat\")\n",
    ")\n",
    "# chain = hub.pull(\"langchain-ai/retrieval-qa-chat\") | llm\n",
    "\n",
    "# Full Retrieval-Augmented chain\n",
    "scene_retrieval_chain = create_retrieval_chain(\n",
    "    retriever=retriever,\n",
    "    combine_docs_chain = stuff_documents_chain\n",
    ")\n",
    "\n",
    "# Query the system\n",
    "output = scene_retrieval_chain.invoke({\"input\": \"You are Jim Halpert. Answer in a witty, sarcastic tone like Jim. Now, tell me about your pranks on Dwight.\"})\n",
    "print(output[\"answer\"])\n"
   ]
  }
 ],
 "metadata": {
  "kernelspec": {
   "display_name": ".venv",
   "language": "python",
   "name": "python3"
  },
  "language_info": {
   "codemirror_mode": {
    "name": "ipython",
    "version": 3
   },
   "file_extension": ".py",
   "mimetype": "text/x-python",
   "name": "python",
   "nbconvert_exporter": "python",
   "pygments_lexer": "ipython3",
   "version": "3.11.3"
  }
 },
 "nbformat": 4,
 "nbformat_minor": 5
}
