{
 "cells": [
  {
   "cell_type": "code",
   "execution_count": null,
   "id": "edbf7e15",
   "metadata": {},
   "outputs": [],
   "source": [
    "import pandas as pd\n",
    "import numpy as np\n",
    "import matplotlib.pyplot as plt\n",
    "import seaborn as sns\n",
    "import warnings\n",
    "from transformers import pipeline\n",
    "\n",
    "warnings.filterwarnings(\"ignore\")\n",
    "%load_ext jupyter_black"
   ]
  },
  {
   "cell_type": "code",
   "execution_count": null,
   "id": "cce04e5a",
   "metadata": {},
   "outputs": [],
   "source": [
    "df = pd.read_csv(\"../data/The-Office-Lines-V4.csv\")\n",
    "df.head()"
   ]
  },
  {
   "cell_type": "code",
   "execution_count": null,
   "id": "943721ef",
   "metadata": {},
   "outputs": [],
   "source": [
    "print(df.columns)\n",
    "print(df.info())"
   ]
  },
  {
   "cell_type": "code",
   "execution_count": null,
   "id": "0f402e58",
   "metadata": {},
   "outputs": [],
   "source": [
    "df = df[[\"season\", \"episode\", \"title\", \"scene\", \"speaker\", \"line\"]]\n",
    "df.head()"
   ]
  },
  {
   "cell_type": "code",
   "execution_count": null,
   "id": "bf91e01c",
   "metadata": {},
   "outputs": [],
   "source": [
    "print(df.line[0])"
   ]
  },
  {
   "cell_type": "code",
   "execution_count": null,
   "id": "94f7e6e5",
   "metadata": {},
   "outputs": [],
   "source": [
    "speaker_counts = df[\"speaker\"].value_counts().reset_index()\n",
    "speaker_counts.columns = [\"speaker\", \"line_count\"]\n",
    "\n",
    "plt.figure(figsize=(30, 20))\n",
    "sns.barplot(\n",
    "    data=speaker_counts.head(15), x=\"speaker\", y=\"line_count\", palette=\"viridis\"\n",
    ")\n",
    "plt.xticks(rotation=90)\n",
    "plt.title(\"Top 15 Characters by Number of Lines\")\n",
    "plt.xlabel(\"Character\")\n",
    "plt.ylabel(\"Number of Lines\")\n",
    "plt.tight_layout()\n",
    "plt.show()"
   ]
  },
  {
   "cell_type": "code",
   "execution_count": null,
   "id": "a0afdcd0",
   "metadata": {},
   "outputs": [],
   "source": [
    "pip install torch\n"
   ]
  },
  {
   "cell_type": "code",
   "execution_count": null,
   "id": "3e62a627",
   "metadata": {},
   "outputs": [],
   "source": [
    "from transformers import pipeline\n",
    "import torch\n",
    "\n",
    "emotion_classifier = pipeline(\n",
    "    \"text-classification\",\n",
    "    model=\"j-hartmann/emotion-english-distilroberta-base\",\n",
    "    return_all_scores=True,\n",
    ")"
   ]
  },
  {
   "cell_type": "code",
   "execution_count": null,
   "id": "eb6795d2",
   "metadata": {},
   "outputs": [],
   "source": [
    "def get_top_emotions(text, top_k=2):\n",
    "    scores = emotion_classifier(text)[0]\n",
    "    sorted_scores = sorted(scores, key=lambda x: x[\"score\"], reverse=True)\n",
    "    return [e[\"label\"] for e in sorted_scores[:top_k]]"
   ]
  },
  {
   "cell_type": "code",
   "execution_count": null,
   "id": "fc8c1331",
   "metadata": {},
   "outputs": [],
   "source": [
    "df[\"emotions\"] = df[\"line\"].apply(get_top_emotions)"
   ]
  },
  {
   "cell_type": "code",
   "execution_count": null,
   "id": "d549e1dc",
   "metadata": {},
   "outputs": [],
   "source": [
    "print(df.head(10))"
   ]
  },
  {
   "cell_type": "code",
   "execution_count": null,
   "id": "34a1ee23",
   "metadata": {},
   "outputs": [],
   "source": [
    "from transformers import AutoTokenizer, AutoModelForSequenceClassification\n",
    "import string\n",
    "\n",
    "# Load the sarcasm model\n",
    "MODEL_PATH = \"helinivan/english-sarcasm-detector\"\n",
    "tokenizer = AutoTokenizer.from_pretrained(MODEL_PATH)\n",
    "model = AutoModelForSequenceClassification.from_pretrained(MODEL_PATH)\n",
    "\n",
    "\n",
    "def preprocess_data(text: str) -> str:\n",
    "    return text.lower().translate(str.maketrans(\"\", \"\", string.punctuation)).strip()\n",
    "\n",
    "\n",
    "def detect_sarcasm(text, threshold=0.5):\n",
    "    tokenized_text = tokenizer(\n",
    "        [preprocess_data(text)],\n",
    "        padding=True,\n",
    "        truncation=True,\n",
    "        max_length=256,\n",
    "        return_tensors=\"pt\",\n",
    "    )\n",
    "    with torch.no_grad():\n",
    "        output = model(**tokenized_text)\n",
    "    probs = output.logits.softmax(dim=-1).tolist()[0]\n",
    "    confidence = max(probs)\n",
    "    prediction = probs.index(confidence)\n",
    "    is_sarcastic = bool(prediction)  # Usually 1 = sarcastic, 0 = not\n",
    "    return \"sarcastic\" if is_sarcastic and confidence >= threshold else \"not_sarcastic\""
   ]
  },
  {
   "cell_type": "code",
   "execution_count": null,
   "id": "d7d7e0b4",
   "metadata": {},
   "outputs": [],
   "source": [
    "df[\"sarcasm\"] = df[\"line\"].apply(detect_sarcasm)"
   ]
  },
  {
   "cell_type": "code",
   "execution_count": null,
   "id": "acc4d51c",
   "metadata": {},
   "outputs": [],
   "source": [
    "df.head(20)"
   ]
  },
  {
   "cell_type": "code",
   "execution_count": null,
   "id": "b83f4b1d",
   "metadata": {},
   "outputs": [],
   "source": [
    "df.sarcasm.value_counts().plot(kind=\"bar\", color=[\"blue\", \"orange\"])\n",
    "plt.title(\"Sarcasm Detection Results\")"
   ]
  }
 ],
 "metadata": {
  "kernelspec": {
   "display_name": ".venv",
   "language": "python",
   "name": "python3"
  },
  "language_info": {
   "codemirror_mode": {
    "name": "ipython",
    "version": 3
   },
   "file_extension": ".py",
   "mimetype": "text/x-python",
   "name": "python",
   "nbconvert_exporter": "python",
   "pygments_lexer": "ipython3",
   "version": "3.11.3"
  }
 },
 "nbformat": 4,
 "nbformat_minor": 5
}
